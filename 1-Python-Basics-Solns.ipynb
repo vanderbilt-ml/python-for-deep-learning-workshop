{
  "cells": [
    {
      "cell_type": "markdown",
      "metadata": {
        "id": "6ndJHlz-3yaX"
      },
      "source": [
        "# Data Structures, Comparisons, Loops, and Functions"
      ]
    },
    {
      "cell_type": "markdown",
      "metadata": {
        "id": "p5uwT6MM3yaa"
      },
      "source": [
        "In this notebook, we will learn about various data structures, comparison statements, some useful tools for working with lists like 'for' loops and list comprehension, and functions.\n",
        "\n",
        "Follow along with the lecture by running each line when it is shown to get a better understanding of these Python concepts that will be very important going forward!\n",
        "\n",
        "Tutorial adapted from: A Whirlwind Tour of Python by Jake VanderPlas (O’Reilly). Copyright 2016 O’Reilly Media, Inc., 978-1-491-96465-1\n",
        "\n",
        "More information about these and many other topics can be found at: https://github.com/jakevdp/WhirlwindTourOfPython"
      ]
    },
    {
      "cell_type": "markdown",
      "metadata": {
        "id": "spKr2LFF3yaa"
      },
      "source": [
        "## Data Structures"
      ]
    },
    {
      "cell_type": "markdown",
      "metadata": {
        "id": "n6wEpw-l3yab"
      },
      "source": [
        "The data structures we will be covering are ``lists``, ``dictionaries``, ``tuples``, and ``sets``, with a much heavier focus on the first two."
      ]
    },
    {
      "cell_type": "markdown",
      "metadata": {
        "id": "zxHz8YlQ3yab"
      },
      "source": [
        "### Lists"
      ]
    },
    {
      "cell_type": "markdown",
      "metadata": {
        "id": "Zw1HgA143yab"
      },
      "source": [
        "In Python, creating a new list is very simple. If you remember the way we declared variables in the pre-workshop notebook, lists can be declared in the same way. To specify to Python that we are creating a list, enclose the data you want in the list in brackets ``[ ]``, separated by commas.\n",
        "\n",
        "For example:"
      ]
    },
    {
      "cell_type": "code",
      "execution_count": null,
      "metadata": {
        "id": "RFe_Bn5g3yac",
        "outputId": "5ddaefea-3cdf-4572-f745-d4db686ec110"
      },
      "outputs": [
        {
          "data": {
            "text/plain": [
              "list"
            ]
          },
          "execution_count": null,
          "metadata": {},
          "output_type": "execute_result"
        }
      ],
      "source": [
        "new_list = [0,1,2,3,4,5]\n",
        "# Let's check the type of the object we just made\n",
        "type(new_list)"
      ]
    },
    {
      "cell_type": "code",
      "execution_count": null,
      "metadata": {
        "id": "D6E9zUyF3yad",
        "outputId": "9d1a982a-4abb-45fc-b16a-d8b35f620916"
      },
      "outputs": [
        {
          "name": "stdout",
          "output_type": "stream",
          "text": [
            "[0, 1, 2, 3, 4, 5]\n"
          ]
        }
      ],
      "source": [
        "# Calling print on the list simply prints out what the list is!\n",
        "print(new_list)"
      ]
    },
    {
      "cell_type": "markdown",
      "metadata": {
        "id": "V_ozoxG_3yae"
      },
      "source": [
        "Now that we have this list, let's look at the things we can do with it\n",
        "\n",
        "First, we should be aware that each element of a list has an index. In Python, indexing starts at 0, so the first element in the list could be accessed by new_list\\[0\\]\n",
        "\n",
        "Let's try that:"
      ]
    },
    {
      "cell_type": "code",
      "execution_count": null,
      "metadata": {
        "id": "S7uwQ6Ct3yaf",
        "outputId": "fb556efc-519d-43dd-c64f-746944d2481b"
      },
      "outputs": [
        {
          "name": "stdout",
          "output_type": "stream",
          "text": [
            "0\n"
          ]
        }
      ],
      "source": [
        "# Return the first item\n",
        "print(new_list[0])"
      ]
    },
    {
      "cell_type": "markdown",
      "metadata": {
        "id": "qw9gXM1C3yaf"
      },
      "source": [
        "Something we can also do is input a negative index to start counting from the end and moving forward. This starts at -1 which returns the last item in the list, then -2 returns the second-to-last item, and so on.\n",
        "\n",
        "Here's an example of that:"
      ]
    },
    {
      "cell_type": "code",
      "execution_count": null,
      "metadata": {
        "id": "QdBM4FBR3yaf",
        "outputId": "1fbf0a6e-6fc6-42a1-cb28-b1504d489b55"
      },
      "outputs": [
        {
          "name": "stdout",
          "output_type": "stream",
          "text": [
            "4\n"
          ]
        }
      ],
      "source": [
        "# Return the second-to-last item\n",
        "print(new_list[-2])"
      ]
    },
    {
      "cell_type": "markdown",
      "metadata": {
        "id": "gMNrAfbi3yag"
      },
      "source": [
        "The next thing we might want to do with a list is to check the length of it. We can use the ``len()`` function to get the number of elements that are in a list.\n",
        "\n",
        "Here's how that works:"
      ]
    },
    {
      "cell_type": "code",
      "execution_count": null,
      "metadata": {
        "id": "W7sG1Nye3yag",
        "outputId": "16d5b978-8aab-46fa-8029-1fc3a5237850"
      },
      "outputs": [
        {
          "name": "stdout",
          "output_type": "stream",
          "text": [
            "6\n"
          ]
        }
      ],
      "source": [
        "# Get the length of a list using len()\n",
        "print(len(new_list))"
      ]
    },
    {
      "cell_type": "markdown",
      "metadata": {
        "id": "KFXUeHoc3yag"
      },
      "source": [
        "Next, we'll learn how to add items to a list. One way to go about this is to use ``list.append()`` to add that item onto the end of the list. \n",
        "\n",
        "The syntax for that looks like this:"
      ]
    },
    {
      "cell_type": "code",
      "execution_count": null,
      "metadata": {
        "id": "90D4_Nnx3yag",
        "outputId": "6fd51e3d-859e-4495-e5e1-974cf69ff217"
      },
      "outputs": [
        {
          "name": "stdout",
          "output_type": "stream",
          "text": [
            "[0, 1, 2, 3, 4, 5, 6]\n"
          ]
        }
      ],
      "source": [
        "# Append the number 6 to the list  \n",
        "# Note that every time you run this, it will add another 6 to the list, so be careful!\n",
        "new_list.append(6) \n",
        "print(new_list)"
      ]
    },
    {
      "cell_type": "markdown",
      "metadata": {
        "id": "VXUPcrhO3yah"
      },
      "source": [
        "Another way to add items is through list addition. Entering ``list_a + list_b`` will return ``list_a`` with ``list_b`` appended onto the end.\n",
        "\n",
        "Here's a look at that:"
      ]
    },
    {
      "cell_type": "code",
      "execution_count": null,
      "metadata": {
        "id": "YWqqbLJk3yah",
        "outputId": "1354d475-a0b9-488c-ddca-d6e501a1cb61"
      },
      "outputs": [
        {
          "name": "stdout",
          "output_type": "stream",
          "text": [
            "[0, 1, 2, 3, 4, 5, 6, 6, 7, 8]\n"
          ]
        }
      ],
      "source": [
        "# Print the list plus the numbers [6,7,8]\n",
        "print(new_list + [6,7,8])\n",
        "\n",
        "# Note that printing this doesn't actually add these items to the list,\n",
        "# just like printing 4 + 3 doesn't make 4 = 7 aftwerwards!"
      ]
    },
    {
      "cell_type": "markdown",
      "metadata": {
        "id": "V56b1cPs3yah"
      },
      "source": [
        "We should also keep in mind that there is no requirement that everything in a list be the same type! If we wanted to add a string to our list of numbers, we're totally allowed to do that.\n",
        "\n",
        "Let's try it:"
      ]
    },
    {
      "cell_type": "code",
      "execution_count": null,
      "metadata": {
        "id": "nl7pXMt-3yai",
        "outputId": "b1855b93-34e7-4752-ca30-e8eb92b7c9ad"
      },
      "outputs": [
        {
          "name": "stdout",
          "output_type": "stream",
          "text": [
            "[0, 1, 2, 3, 4, 5, 6, 'String?']\n"
          ]
        }
      ],
      "source": [
        "# Add a string to the list\n",
        "# Rememeber again, every time you run this, it will add the string again!\n",
        "new_list.append(\"String?\")\n",
        "print(new_list)"
      ]
    },
    {
      "cell_type": "code",
      "execution_count": null,
      "metadata": {
        "id": "xpGUzCjz3yai"
      },
      "outputs": [],
      "source": [
        "# Now that we're done adding things, run this to get back to the original list\n",
        "new_list = [0,1,2,3,4,5]"
      ]
    },
    {
      "cell_type": "markdown",
      "metadata": {
        "id": "cquEPQdP3yai"
      },
      "source": [
        "Finally, let's look at some things we can do with the indexing to select multiple elements at a time. \n",
        "\n",
        "Using the ``:`` character, we can select all elements between two elements. It will include the element at the index on the left, but not the element at the index on on the right.\n",
        "\n",
        "Here's a few examples:"
      ]
    },
    {
      "cell_type": "code",
      "execution_count": null,
      "metadata": {
        "id": "5yq3jYHg3yai",
        "outputId": "abc65254-1233-4935-a5fd-bd3d9d6df50b"
      },
      "outputs": [
        {
          "name": "stdout",
          "output_type": "stream",
          "text": [
            "[0, 1, 2]\n"
          ]
        }
      ],
      "source": [
        "# Select the first 3 items\n",
        "print(new_list[0:3])"
      ]
    },
    {
      "cell_type": "markdown",
      "metadata": {
        "id": "6Fc6aIiw3yaj"
      },
      "source": [
        "If you leave the space empty before or after the ``:``, it will go until the end of the list!"
      ]
    },
    {
      "cell_type": "code",
      "execution_count": null,
      "metadata": {
        "id": "SXfSEjmc3yaj",
        "outputId": "301429ac-5f73-433c-b99e-1ab4d54d59f0"
      },
      "outputs": [
        {
          "name": "stdout",
          "output_type": "stream",
          "text": [
            "[2, 3, 4, 5]\n"
          ]
        }
      ],
      "source": [
        "# Select from item at index 2 until the end of the list\n",
        "print(new_list[2:]) "
      ]
    },
    {
      "cell_type": "markdown",
      "metadata": {
        "id": "jarPaTpf3yaj"
      },
      "source": [
        " This works the same if you put nothing before the ``:``, it will start at the beginning of the list!"
      ]
    },
    {
      "cell_type": "code",
      "execution_count": null,
      "metadata": {
        "id": "Ivi_cFNN3yaj",
        "outputId": "628f0855-a5a6-424c-d2ed-6f1f1c8737ad"
      },
      "outputs": [
        {
          "name": "stdout",
          "output_type": "stream",
          "text": [
            "[0, 1, 2]\n"
          ]
        }
      ],
      "source": [
        "# Select from the start of the list until the third item\n",
        "print(new_list[:3])"
      ]
    },
    {
      "cell_type": "markdown",
      "metadata": {
        "id": "poPlbeDX3yaj"
      },
      "source": [
        "Another thing we can do is use the ``::`` character to specify a 'step size'. For example, we can select every second element of the list\n",
        "\n",
        "Here are some examples of how this is used:"
      ]
    },
    {
      "cell_type": "code",
      "execution_count": null,
      "metadata": {
        "id": "XzuZpNbj3yaj",
        "outputId": "844b9c41-b235-4365-b61a-136dd701cf10"
      },
      "outputs": [
        {
          "name": "stdout",
          "output_type": "stream",
          "text": [
            "[0, 2, 4]\n"
          ]
        }
      ],
      "source": [
        "# Select every second element\n",
        "print(new_list[::2])"
      ]
    },
    {
      "cell_type": "markdown",
      "metadata": {
        "id": "RXRr89zr3yak"
      },
      "source": [
        "One particularly useful application of this is to use a step of ``-1``, which reverses a list!"
      ]
    },
    {
      "cell_type": "code",
      "execution_count": null,
      "metadata": {
        "id": "6nFYzluj3yak",
        "outputId": "d85566c5-b380-4771-aee0-ca76f26ca565"
      },
      "outputs": [
        {
          "name": "stdout",
          "output_type": "stream",
          "text": [
            "[5, 4, 3, 2, 1, 0]\n"
          ]
        }
      ],
      "source": [
        "# Reverse the list using a step\n",
        "print(new_list[::-1])"
      ]
    },
    {
      "cell_type": "markdown",
      "metadata": {
        "id": "p_XzJXu23yak"
      },
      "source": [
        "### Dictionaries "
      ]
    },
    {
      "cell_type": "markdown",
      "metadata": {
        "id": "Ii5G5zwP3yak"
      },
      "source": [
        "Next, we'll look at a data structure that is somewhat like lists, but with some key differences. \n",
        "\n",
        "Here's an example to understand why we might want to use a dictionary: Say a teacher wants to keep track of some attributes of the students of thier class and store them in a list. The information we want to store is the number of students in the class which is 17, the average grade which is 84, the average midterm score which is 83, the average final exam score which is 80.\n",
        "\n",
        "We CAN do this with a list, the code is just ``class_info = [17,84,83,80]``\n",
        "\n",
        "But what if we want to access that info? Sure we could just *remember* that the number of students is first, the final grades are second, and so on... But what if instead of 4 things to keep track of, we had 100, 1,000, or even 1,000,000?\n",
        "\n",
        "Dictionaries are our solution to this problem, because they allow you to search them by a key instead of by an index like lists.\n",
        "\n",
        "Dictionaries are declared using ``{ }``, and each element is formatted as a key ``key_name`` then a ``:`` followed by the data to be stored at that key. For example, ``new_dict = {'one': 1, 'two':2, 'string':'string','list':[0,1,2], 'dict':{'key':3}}``\n",
        "\n",
        "Let's get into some coding to see how dictionaries can make our class example easier:"
      ]
    },
    {
      "cell_type": "code",
      "execution_count": null,
      "metadata": {
        "id": "KqP6K4kV3yak",
        "outputId": "67c66500-fbfb-436c-b8fb-3e8e3aa0097c"
      },
      "outputs": [
        {
          "name": "stdout",
          "output_type": "stream",
          "text": [
            "{'num_students': 17}\n"
          ]
        }
      ],
      "source": [
        "# First, lets make a new dictionary and add the first item\n",
        "new_dict = {'num_students': 17}\n",
        "print(new_dict)"
      ]
    },
    {
      "cell_type": "markdown",
      "metadata": {
        "id": "wxw2cbWK3yak"
      },
      "source": [
        "Adding items to a dictionary is easy, we just set the ``dict['new_key'] = new_item`` and it gets added to the dictionary\n",
        "\n",
        "Knowing this, let's add the next two items:"
      ]
    },
    {
      "cell_type": "code",
      "execution_count": null,
      "metadata": {
        "id": "0AdBkYFT3yal"
      },
      "outputs": [],
      "source": [
        "# Add the next two items, avg_grade and avg_midterm\n",
        "new_dict['avg_grade'] = 84\n",
        "new_dict['avg_midterm'] = 83"
      ]
    },
    {
      "cell_type": "markdown",
      "metadata": {
        "id": "-MEOQHeN3yal"
      },
      "source": [
        "Seeing how we've doing this, try to add the final item ``avg_final`` yourself in the box below!"
      ]
    },
    {
      "cell_type": "code",
      "execution_count": null,
      "metadata": {
        "id": "LXe6QWH-3yal"
      },
      "outputs": [],
      "source": [
        "# Add the final item avg_final with its value 80\n",
        "new_dict['avg_final'] = 80"
      ]
    },
    {
      "cell_type": "markdown",
      "metadata": {
        "id": "IEy55WNA3yal"
      },
      "source": [
        "To access items in a dictionary, we call it like a list, but we give it the key name instead of the index.\n",
        "\n",
        "Like so:"
      ]
    },
    {
      "cell_type": "code",
      "execution_count": null,
      "metadata": {
        "id": "ukGG7bTQ3yal",
        "outputId": "5bcf0698-537b-43f8-da2c-e2bea20f101c"
      },
      "outputs": [
        {
          "name": "stdout",
          "output_type": "stream",
          "text": [
            "17\n"
          ]
        }
      ],
      "source": [
        "# Print the number of students by accessing the dictionary with key 'num_students'\n",
        "print(new_dict['num_students'])"
      ]
    },
    {
      "cell_type": "markdown",
      "metadata": {
        "id": "avKfWm4h3yam"
      },
      "source": [
        "We can see how this makes it much easier to find data you are looking for!\n",
        "\n",
        "Remember, when you're looking for specifically named attributes of something, dictionaries are a helpful tool to make that much easier than searching for it in a list."
      ]
    },
    {
      "cell_type": "markdown",
      "metadata": {
        "id": "AgTs2Qes3yam"
      },
      "source": [
        "### Tuples and Sets: Reading and exercises left to the reader"
      ]
    },
    {
      "cell_type": "markdown",
      "metadata": {
        "id": "ORGxfrLx3yam"
      },
      "source": [
        "\n",
        "There are two other build-in data structures that are good to know - ``tuples`` and ``sets``.  This section and topics are left to the reader for review.\n",
        "\n",
        "``Tuples`` are a lot like ``lists``, but there are a few key differences and they are defined by ``( )`` instead of ``[ ]`` like ``lists``.\n",
        "\n",
        "Here's an example:"
      ]
    },
    {
      "cell_type": "code",
      "execution_count": null,
      "metadata": {
        "id": "Nsa44ePG3yam"
      },
      "outputs": [],
      "source": [
        "# Make a new tuple with the numbers 0,1,2\n",
        "new_tuple = (0,1,2)"
      ]
    },
    {
      "cell_type": "code",
      "execution_count": null,
      "metadata": {
        "id": "YyiD2XAC3yam",
        "outputId": "28f9e255-1fb8-4ce2-df2c-27826310f926"
      },
      "outputs": [
        {
          "name": "stdout",
          "output_type": "stream",
          "text": [
            "0\n"
          ]
        }
      ],
      "source": [
        "# You can access elements in tuples the same way as with lists\n",
        "# Print the first item in the tuple\n",
        "print(new_tuple[0])"
      ]
    },
    {
      "cell_type": "markdown",
      "metadata": {
        "id": "KyQzdnHj3yam"
      },
      "source": [
        "The main difference between tuples and lists though, is that once you create a tuple it cannot be changed.\n",
        "\n",
        "Therefore, if you try to add to it, you'll get an error like this:"
      ]
    },
    {
      "cell_type": "code",
      "execution_count": null,
      "metadata": {
        "id": "x--q10Zo3yam",
        "outputId": "7202df90-8c7c-42cf-ec33-c7a398683e60"
      },
      "outputs": [
        {
          "ename": "AttributeError",
          "evalue": "'tuple' object has no attribute 'append'",
          "output_type": "error",
          "traceback": [
            "\u001b[1;31m---------------------------------------------------------------------------\u001b[0m",
            "\u001b[1;31mAttributeError\u001b[0m                            Traceback (most recent call last)",
            "\u001b[1;32m<ipython-input-21-44da928f8b3d>\u001b[0m in \u001b[0;36m<module>\u001b[1;34m\u001b[0m\n\u001b[0;32m      1\u001b[0m \u001b[1;31m# Try to add the number 4 to the tuple\u001b[0m\u001b[1;33m\u001b[0m\u001b[1;33m\u001b[0m\u001b[1;33m\u001b[0m\u001b[0m\n\u001b[1;32m----> 2\u001b[1;33m \u001b[0mnew_tuple\u001b[0m\u001b[1;33m.\u001b[0m\u001b[0mappend\u001b[0m\u001b[1;33m(\u001b[0m\u001b[1;36m4\u001b[0m\u001b[1;33m)\u001b[0m\u001b[1;33m\u001b[0m\u001b[1;33m\u001b[0m\u001b[0m\n\u001b[0m",
            "\u001b[1;31mAttributeError\u001b[0m: 'tuple' object has no attribute 'append'"
          ]
        }
      ],
      "source": [
        "# Try to add the number 4 to the tuple\n",
        "new_tuple.append(4)"
      ]
    },
    {
      "cell_type": "markdown",
      "metadata": {
        "id": "PMmt7dqx3yan"
      },
      "source": [
        "The other data structure we'll brifely cover is ``sets``, which are defined using ``{ }`` like dictionaries, but without the ``key:value`` format for elements.\n",
        "\n",
        "``Sets`` have no order like ``lists`` and ``tuples``, so they can't be called with an index, but they do have built-in 'set operations' which are a bit like the Boolean operations ``and``, ``not``, and ``or`` that we learned about earlier.\n",
        "\n",
        "Here's a look at that:"
      ]
    },
    {
      "cell_type": "code",
      "execution_count": null,
      "metadata": {
        "id": "j3kxlirA3yan"
      },
      "outputs": [],
      "source": [
        "# First we need some sets to operate on\n",
        "set_odds = {1,3,5,7,9}\n",
        "set_threes = {3,6,9}"
      ]
    },
    {
      "cell_type": "code",
      "execution_count": null,
      "metadata": {
        "id": "OAC1Ovs53yan",
        "outputId": "d41368a9-4cb4-4ddd-f3e8-08eca82b6fbf"
      },
      "outputs": [
        {
          "name": "stdout",
          "output_type": "stream",
          "text": [
            "{1, 3, 5, 6, 7, 9}\n"
          ]
        }
      ],
      "source": [
        "# The | operation works like the 'or' operator, returning things that are in set 1 OR set 2\n",
        "print(set_odds | set_threes)"
      ]
    },
    {
      "cell_type": "code",
      "execution_count": null,
      "metadata": {
        "id": "Jyk5UoG43yan",
        "outputId": "98fe3c37-a7f5-49b1-bdb7-4040c498f360"
      },
      "outputs": [
        {
          "name": "stdout",
          "output_type": "stream",
          "text": [
            "{9, 3}\n"
          ]
        }
      ],
      "source": [
        "# The & operation works like the 'and' operator, returning things that are in set 1 AND set 2\n",
        "print(set_odds & set_threes) # Remember that sets have no order, so these might not come out in sorted order"
      ]
    },
    {
      "cell_type": "code",
      "execution_count": null,
      "metadata": {
        "id": "gqjYvwyn3yan",
        "outputId": "2f268d57-6533-4259-89c9-fd7dc33c7494"
      },
      "outputs": [
        {
          "name": "stdout",
          "output_type": "stream",
          "text": [
            "{1, 5, 7}\n"
          ]
        }
      ],
      "source": [
        "# Finally, the - operation works like you might expect subtraction to work, returning things in set 1 but NOT set 2\n",
        "print(set_odds - set_threes)"
      ]
    },
    {
      "cell_type": "markdown",
      "metadata": {
        "id": "aPQrzdU_3yan"
      },
      "source": [
        "## Conditional Execution"
      ]
    },
    {
      "cell_type": "markdown",
      "metadata": {
        "id": "Z4I_d_1e3yan"
      },
      "source": [
        "Next, we'll go over comparison control statements, which allow different pieces of code to be executed based on True/False statements"
      ]
    },
    {
      "cell_type": "markdown",
      "metadata": {
        "id": "FiBMdEEt3yao"
      },
      "source": [
        "### If Statements"
      ]
    },
    {
      "cell_type": "markdown",
      "metadata": {
        "id": "xELZjOZJ3yao"
      },
      "source": [
        "The first control statement that is important for us to know is the classic ``if`` statement.\n",
        "\n",
        "Here's how it works:"
      ]
    },
    {
      "cell_type": "code",
      "execution_count": null,
      "metadata": {
        "id": "K6V4YO7D3yao",
        "outputId": "c37ec068-bcc9-47b3-96de-f22df9045018"
      },
      "outputs": [
        {
          "name": "stdout",
          "output_type": "stream",
          "text": [
            "First if statment!\n"
          ]
        }
      ],
      "source": [
        "# Example\n",
        "if(True): # Note this one will always print because the condition 'True' is always equal to True. \n",
        "    print (\"First if statment!\") # The real value of if statements comes from changing this."
      ]
    },
    {
      "cell_type": "markdown",
      "metadata": {
        "id": "8laYEviS3yao"
      },
      "source": [
        "As an example problem for this section, let's try to write some code that will tell us whether a word is uppercase, lowercase, or has mixed casing.  The function `isupper()` is True if all letters are uppercase, and `islower()` is true if all letters are lowercase."
      ]
    },
    {
      "cell_type": "code",
      "execution_count": null,
      "metadata": {
        "id": "R8e7Xqnv3yao",
        "outputId": "a0c302f8-c3e2-457b-ae85-ccc867f421d8"
      },
      "outputs": [
        {
          "name": "stdout",
          "output_type": "stream",
          "text": [
            "Mixed case\n"
          ]
        }
      ],
      "source": [
        "# Solution with only IF statements\n",
        "word = 'dogs ARE cute'\n",
        "if word.isupper()==True :\n",
        "    print (\"All uppercase\")\n",
        "if word.islower()==True:\n",
        "    print (\"All lowercase\")\n",
        "if (word.isupper()==False) and (word.islower()==False):\n",
        "    print('Mixed case')"
      ]
    },
    {
      "cell_type": "markdown",
      "metadata": {
        "id": "AucjOP8a3yao"
      },
      "source": [
        "### Else and Elif statements\n",
        "When two or more statements are mutually exclusive, it makes sense to use the `if-else` or `if-elif-else` conditional structure.\n",
        "\n",
        "* The semantics of the `else` structure is: ``If (condition) then do thing_1, but ELSE if not then do thing_2``.\n",
        "* The semantics of the `if-else` structure is: ``If (condition_1) then do thing_1, but ELSE if not IF (condition_2) then do thing_2``.\n",
        "\n",
        "Let's see what this looks like for the previous example."
      ]
    },
    {
      "cell_type": "code",
      "execution_count": null,
      "metadata": {
        "id": "Tf4Ybp5b3yao",
        "outputId": "68d896b6-8df4-4bc7-f14e-da8322ae0724"
      },
      "outputs": [
        {
          "name": "stdout",
          "output_type": "stream",
          "text": [
            "All lowercase\n"
          ]
        }
      ],
      "source": [
        "#if/else structure - but this isn't true for this case!\n",
        "if word.isupper():\n",
        "    print(\"All uppercase\")\n",
        "else:\n",
        "    print('All lowercase')"
      ]
    },
    {
      "cell_type": "code",
      "execution_count": null,
      "metadata": {
        "id": "NLfHPY2n3yap",
        "outputId": "5464d87f-7691-4388-f670-bd75f711ff9a"
      },
      "outputs": [
        {
          "name": "stdout",
          "output_type": "stream",
          "text": [
            "Mixed case\n"
          ]
        }
      ],
      "source": [
        "if word.isupper():\n",
        "    print(\"All uppercase\")\n",
        "elif word.islower():\n",
        "    print(\"All lowercase\")\n",
        "else:\n",
        "    print('Mixed case')"
      ]
    },
    {
      "cell_type": "markdown",
      "metadata": {
        "id": "1HtJJC5O3yap"
      },
      "source": [
        "#### Additional reading and exercises left to the reader\n",
        "Below is another numerical example of using `if` statements.  Read through this example to understand the underlying concepts, and the advantages of the `if-else` and `if-elif-else` as opposed to the `if-if-if` structure.\n",
        "\n",
        "Suppose you had a number (called `if_number`) and you wanted to know whether it was positive, negative, or zero.  Write a set of if statements that would solve this problem."
      ]
    },
    {
      "cell_type": "code",
      "execution_count": null,
      "metadata": {
        "id": "S2MY3tOF3yap",
        "outputId": "6d6f59e3-5644-487f-9a77-4108bbf46ec2"
      },
      "outputs": [
        {
          "name": "stdout",
          "output_type": "stream",
          "text": [
            "The number is negative\n"
          ]
        }
      ],
      "source": [
        "#Use if statements to test every scenario\n",
        "if_number = -5 \n",
        "if(if_number < 0):\n",
        "    print (\"The number is negative\")\n",
        "if(if_number > 0):\n",
        "    print (\"The number is positive\")\n",
        "if(if_number==0):\n",
        "    print (\"The number is zero\")"
      ]
    },
    {
      "cell_type": "markdown",
      "metadata": {
        "id": "ogsoxJ663yap"
      },
      "source": [
        "What if you tried this with an `if` statement and then an `if-else` to resolve the last condition?"
      ]
    },
    {
      "cell_type": "code",
      "execution_count": null,
      "metadata": {
        "id": "CpdYzeTr3yap",
        "outputId": "29368df3-ab8e-4432-c160-f5c459e58a49"
      },
      "outputs": [
        {
          "name": "stdout",
          "output_type": "stream",
          "text": [
            "The number is negative\n",
            "The number is zero\n"
          ]
        }
      ],
      "source": [
        "# Because if a number is not greater than zero or less than zero it must BE zero right?\n",
        "# So we don't really need to check that last condition, let's replace it with and ELSE statement and see what happens.\n",
        "#Same solution but replace the final IF with just ELSE\n",
        "if_number = -5 \n",
        "if(if_number < 0):\n",
        "    print (\"The number is negative\")\n",
        "if(if_number > 0):\n",
        "    print (\"The number is positive\")\n",
        "else:\n",
        "    print (\"The number is zero\")"
      ]
    },
    {
      "cell_type": "markdown",
      "metadata": {
        "id": "m7IsRpCU3yap"
      },
      "source": [
        "Uh oh, that didn't work, it printed two things! Let's look at why that happened.\n",
        "\n",
        "In the first if statement, the code saw that the number was less than zero so it printed \"The number is negative\". Then, in the second if statement, the code saw that the condition was False, so it executed the else statement and printed \"The number is zero\".\n",
        "\n",
        "To fix this problem, let's look at one last control statement: ``Elif`` statements"
      ]
    },
    {
      "cell_type": "markdown",
      "metadata": {
        "id": "xesczn4g3yap"
      },
      "source": [
        "This will allow us to fix the problem in the code we've been working with that caused it to print twice by only allowing one of the conditions to execute:"
      ]
    },
    {
      "cell_type": "code",
      "execution_count": null,
      "metadata": {
        "id": "Z6wRHdDc3yaq",
        "outputId": "c41283ed-5e66-4b7d-ffa7-ac8aadce1448"
      },
      "outputs": [
        {
          "name": "stdout",
          "output_type": "stream",
          "text": [
            "The number is negative\n"
          ]
        }
      ],
      "source": [
        "# Replacing the second if with elif makes the whole thing just one big statement!\n",
        "# Now everything will work as intended\n",
        "if_number = -5 \n",
        "if(if_number < 0):\n",
        "    print (\"The number is negative\")\n",
        "elif(if_number > 0):\n",
        "    print (\"The number is positive\")\n",
        "else:\n",
        "    print (\"The number is zero\")"
      ]
    },
    {
      "cell_type": "markdown",
      "metadata": {
        "id": "xiilFnHT3yaq"
      },
      "source": [
        "Now, instead of first checking an ``IF`` and then an ``IF-ELSE`` which made it check two statements and print twice, we combined them into an ``IF-ELIF-ELSE`` statement that could only print once, fixing the error!\n",
        "\n",
        "**Considerations**:\n",
        "* Do you think a set of `if` statements is more or less error-prone than the `if-elif-else` logic?  Why or why not?  Consider mutually exclusive statements.\n",
        "* Consider if you had a list of 20 if statements.  Let's say the condition is resolved by the first statements.  Are the rest of the statements executed?  What about the `if-elif-else` logic?  Given the mutual exclusivity of the statements - how many do you think would need to be executed?"
      ]
    },
    {
      "cell_type": "markdown",
      "metadata": {
        "id": "YvOZWJ-y3yaq"
      },
      "source": [
        "## Iteration"
      ]
    },
    {
      "cell_type": "markdown",
      "metadata": {
        "id": "NnJdykek3yaq"
      },
      "source": [
        "The next thing we'll look at is ``for`` loops, and specifically how they can be used with some of the data structures we learned about earlier."
      ]
    },
    {
      "cell_type": "markdown",
      "metadata": {
        "id": "xuxN3XWL3yaq"
      },
      "source": [
        "### For Loops"
      ]
    },
    {
      "cell_type": "markdown",
      "metadata": {
        "id": "YjaoMckH3yaq"
      },
      "source": [
        "The primary use we'll have for ``for`` loops has to do with their interactions with our data structures. Using a ``for`` loop, you can easily iterate through data structures and perform operations on each element.  Let's look at a few examples:"
      ]
    },
    {
      "cell_type": "code",
      "execution_count": null,
      "metadata": {
        "id": "7dSFqJ813yaq"
      },
      "outputs": [],
      "source": [
        "# First, let's make a list\n",
        "new_list = [0,1,2,3,4,5]"
      ]
    },
    {
      "cell_type": "code",
      "execution_count": null,
      "metadata": {
        "id": "SRwJb_Pm3yaq",
        "outputId": "02f90110-8627-4879-8341-1bff8ad6563d"
      },
      "outputs": [
        {
          "name": "stdout",
          "output_type": "stream",
          "text": [
            "0\n",
            "1\n",
            "2\n",
            "3\n",
            "4\n",
            "5\n"
          ]
        }
      ],
      "source": [
        "# Now let's try out a for loop to print out each element\n",
        "for el in new_list:\n",
        "    print(el)"
      ]
    },
    {
      "cell_type": "markdown",
      "metadata": {
        "id": "LT0IjnQP3yar"
      },
      "source": [
        "We can see that this ends up calling the print() function 6 times, once per element in the list to print it!  Let's combine this with some additional information about strings to see how this can be used with our previous function.\n",
        "\n",
        "The `split` method can be called on strings to split the strings based on some parameter.  The results are returned as a list.  Let's check this out and combine this with iteration:"
      ]
    },
    {
      "cell_type": "code",
      "execution_count": null,
      "metadata": {
        "id": "_36E2lyP3yar",
        "outputId": "5059584c-273c-4dfb-f741-0b7c4bbfe677"
      },
      "outputs": [
        {
          "data": {
            "text/plain": [
              "['dogs', 'ARE', 'cUte']"
            ]
          },
          "execution_count": null,
          "metadata": {},
          "output_type": "execute_result"
        }
      ],
      "source": [
        "#default split method is on spaces\n",
        "sentence = 'dogs ARE cUte'\n",
        "sent_list = sentence.split()\n",
        "sent_list"
      ]
    },
    {
      "cell_type": "code",
      "execution_count": null,
      "metadata": {
        "id": "47uOOr203yar",
        "outputId": "cdd701d5-9f3a-40db-dc6d-3037882fed6c"
      },
      "outputs": [
        {
          "name": "stdout",
          "output_type": "stream",
          "text": [
            "dogs\n",
            "ARE\n",
            "cUte\n"
          ]
        }
      ],
      "source": [
        "for el in sent_list:\n",
        "    print(el)"
      ]
    },
    {
      "cell_type": "markdown",
      "metadata": {
        "id": "q11hu2MV3yar"
      },
      "source": [
        "Let's apply this to our previous example.  Let's test each word in our list to determine whether it is upper, lower, or mixed case.  Try this for a minute on your own and then we'll do this together."
      ]
    },
    {
      "cell_type": "code",
      "execution_count": null,
      "metadata": {
        "id": "0WP-re1H3yar",
        "outputId": "1ad7c700-5d78-46f5-d59b-78fff208d72c"
      },
      "outputs": [
        {
          "name": "stdout",
          "output_type": "stream",
          "text": [
            "dogs - All lowercase\n",
            "ARE - All uppercase\n",
            "cUte - Mixed case\n"
          ]
        }
      ],
      "source": [
        "for element in sent_list:\n",
        "    if element.isupper():\n",
        "        print(element, \"- All uppercase\")\n",
        "    elif element.islower():\n",
        "        print(element, \"- All lowercase\")\n",
        "    else:\n",
        "        print(element, '- Mixed case')"
      ]
    },
    {
      "cell_type": "markdown",
      "metadata": {
        "id": "Rbo34SFN3yar"
      },
      "source": [
        "How does this work with dictionaries since they are unordered?"
      ]
    },
    {
      "cell_type": "code",
      "execution_count": null,
      "metadata": {
        "id": "Vd45M0kY3yar",
        "outputId": "dea48513-2a5b-4f4f-ec86-3a61f905fe76"
      },
      "outputs": [
        {
          "name": "stdout",
          "output_type": "stream",
          "text": [
            "The key is: num_students - with value: 17\n",
            "The key is: avg_grade - with value: 84\n",
            "The key is: avg_midterm - with value: 83\n",
            "The key is: avg_final - with value: 80\n"
          ]
        }
      ],
      "source": [
        "for key, value in new_dict.items():\n",
        "    print('The key is:', key, \"- with value:\", value)"
      ]
    },
    {
      "cell_type": "markdown",
      "metadata": {
        "id": "dkC6InjT3yas"
      },
      "source": [
        "#### Additional reading and exercises left to the reader"
      ]
    },
    {
      "cell_type": "markdown",
      "metadata": {
        "id": "95dxzGWb3yas"
      },
      "source": [
        "`range` and `enumerate` are two other functions which are helpful in general, but particularly when iterating through lists.  In general, `range` creates a list of numbers based on the starting value, ending value, and step size.  For lists `enumerate` returns both the _index_ of the element and the value of the element.  Here are some examples:"
      ]
    },
    {
      "cell_type": "code",
      "execution_count": null,
      "metadata": {
        "id": "Ln0UpP9R3yas",
        "outputId": "dd29cd24-92c9-45d2-e646-23760e0c5017"
      },
      "outputs": [
        {
          "name": "stdout",
          "output_type": "stream",
          "text": [
            "0\n",
            "1\n",
            "2\n",
            "3\n",
            "4\n",
            "5\n",
            "6\n",
            "7\n",
            "8\n",
            "9\n"
          ]
        }
      ],
      "source": [
        "# Range() returns an ordered set of numbers from 0 up to, but not including, the number you input.\n",
        "# Print the first 10 numbers using the range() function\n",
        "for each in range(10):\n",
        "    print (each)"
      ]
    },
    {
      "cell_type": "code",
      "execution_count": null,
      "metadata": {
        "id": "DXcKsZi83yas",
        "outputId": "ca12f288-ef26-4b8e-9c33-26772f0aad06"
      },
      "outputs": [
        {
          "name": "stdout",
          "output_type": "stream",
          "text": [
            "5\n",
            "6\n",
            "7\n",
            "8\n",
            "9\n"
          ]
        }
      ],
      "source": [
        "# If you give range() 2 inputs, the first number will act as the starting point, and the second number will work like before.\n",
        "# Print the second set of 5 numbers (5,6,7,8,9) using the range() function\n",
        "for each in range(5,10):\n",
        "    print(each)"
      ]
    },
    {
      "cell_type": "code",
      "execution_count": null,
      "metadata": {
        "id": "WdzuNLPQ3yas",
        "outputId": "a0b7c7b6-d54a-43c9-c52a-f637b7009472"
      },
      "outputs": [
        {
          "name": "stdout",
          "output_type": "stream",
          "text": [
            "1\n",
            "2\n",
            "3\n",
            "4\n"
          ]
        }
      ],
      "source": [
        "# This can be used to get certain parts of lists by using the list indexes\n",
        "new_list = [0,1,2,3,4,5]\n",
        "# Print all numbers except the ends 0 and 5 using a for loop and the range() function\n",
        "for i in range(1,5):\n",
        "    print(new_list[i])"
      ]
    },
    {
      "cell_type": "code",
      "execution_count": null,
      "metadata": {
        "id": "DPIiyJri3yas",
        "outputId": "0ccda17b-20ff-4d0a-e659-5f68b520e1f2"
      },
      "outputs": [
        {
          "name": "stdout",
          "output_type": "stream",
          "text": [
            "index is: 0 -> val is: 5\n",
            "index is: 1 -> val is: 4\n",
            "index is: 2 -> val is: 6\n",
            "index is: 3 -> val is: 2\n",
            "index is: 4 -> val is: 11\n"
          ]
        }
      ],
      "source": [
        "#Print all numbers and their corresponding indices\n",
        "test_list = [5,4,6,2,11]\n",
        "for ind, val in enumerate(test_list):\n",
        "    print('index is:', ind, '-> val is:', val)"
      ]
    },
    {
      "cell_type": "markdown",
      "metadata": {
        "id": "-OH6HRba3yas"
      },
      "source": [
        "## List Comprehensions"
      ]
    },
    {
      "cell_type": "markdown",
      "metadata": {
        "id": "hDDzZ3WL3yas"
      },
      "source": [
        "Next, we'll discuss list comprehensions, which may seem complex-looking at first, but once you understand them they are a powerful tool for quickly creating lists that you may need to make.  To learn how to create and use them, let's look at some code and use the previous example."
      ]
    },
    {
      "cell_type": "code",
      "execution_count": null,
      "metadata": {
        "id": "1re8C-Sp3yat",
        "outputId": "051686b5-2675-4523-ebf9-fc2f8c43ec4b"
      },
      "outputs": [
        {
          "data": {
            "text/plain": [
              "['dogs', 'ARE', 'cUte']"
            ]
          },
          "execution_count": null,
          "metadata": {},
          "output_type": "execute_result"
        }
      ],
      "source": [
        "#default split method is on spaces\n",
        "sentence = 'dogs ARE cUte'\n",
        "sent_list = sentence.split()\n",
        "sent_list"
      ]
    },
    {
      "cell_type": "markdown",
      "metadata": {
        "id": "Kvlcx3Eb3yat"
      },
      "source": [
        "What if we wanted all of these words to be lowercased?  Let's write a for loop to do this..."
      ]
    },
    {
      "cell_type": "code",
      "execution_count": null,
      "metadata": {
        "id": "pwvzgwsQ3yat"
      },
      "outputs": [],
      "source": [
        "for ind, word in enumerate(sent_list):\n",
        "    sent_list[ind] = word.upper()"
      ]
    },
    {
      "cell_type": "code",
      "execution_count": null,
      "metadata": {
        "id": "FxYqlu2x3yat",
        "outputId": "082c66af-f74e-4020-b08e-592cedd60d48"
      },
      "outputs": [
        {
          "data": {
            "text/plain": [
              "['DOGS', 'ARE', 'CUTE']"
            ]
          },
          "execution_count": null,
          "metadata": {},
          "output_type": "execute_result"
        }
      ],
      "source": [
        "sent_list"
      ]
    },
    {
      "cell_type": "markdown",
      "metadata": {
        "id": "LVZn9n3l3yat"
      },
      "source": [
        "This seems like a lot for something so simple.  As written, this is also destructive.  A more concise and shorter method is through list comprehensions.  This would be re-written as follows:"
      ]
    },
    {
      "cell_type": "code",
      "execution_count": null,
      "metadata": {
        "id": "hD0l2ZuV3yat",
        "outputId": "f5fe6a7d-19ca-455f-b7ff-98887633bd0a"
      },
      "outputs": [
        {
          "data": {
            "text/plain": [
              "['dogs', 'are', 'cute']"
            ]
          },
          "execution_count": null,
          "metadata": {},
          "output_type": "execute_result"
        }
      ],
      "source": [
        "sent_list = [word.lower() for word in sent_list]\n",
        "sent_list"
      ]
    },
    {
      "cell_type": "markdown",
      "metadata": {
        "id": "qctDlW7W3yat"
      },
      "source": [
        "We can also return conditionally select list elements to return..."
      ]
    },
    {
      "cell_type": "code",
      "execution_count": null,
      "metadata": {
        "id": "RPKYfgGd3yat",
        "outputId": "ea9da1bd-8259-431a-8e25-e1dd0e31143a"
      },
      "outputs": [
        {
          "data": {
            "text/plain": [
              "['DOGS', 'ARE', 'CUTE']"
            ]
          },
          "execution_count": null,
          "metadata": {},
          "output_type": "execute_result"
        }
      ],
      "source": [
        "[word.upper() for word in sent_list if word.islower()==True]"
      ]
    },
    {
      "cell_type": "markdown",
      "metadata": {
        "id": "EcJt6Kfw3yau"
      },
      "source": [
        "We can also conditionally apply operations to some elements of the list and return all elements..."
      ]
    },
    {
      "cell_type": "code",
      "execution_count": null,
      "metadata": {
        "id": "Ui0T14jY3yau",
        "outputId": "862a713b-f5c2-4c04-de03-2c43350328d6"
      },
      "outputs": [
        {
          "data": {
            "text/plain": [
              "['DOGS', 'ARE', 'CUTE']"
            ]
          },
          "execution_count": null,
          "metadata": {},
          "output_type": "execute_result"
        }
      ],
      "source": [
        "[word.upper() if word.islower() else word for word in sent_list]"
      ]
    },
    {
      "cell_type": "markdown",
      "metadata": {
        "id": "_g_I2TbL3yau"
      },
      "source": [
        "#### In-class exercise\n",
        "You can also split strings based on other characters.  The example below splits strings based on a period and is a great way to get each sentence in a text as a single element of a list.  Based on these strings, return a list of the following elements:\n",
        "1. Create a list containing each element of the list (basic list comprehension)\n",
        "2. Create a list which contains strings which ONLY have uppercase letters\n",
        "3. Bonus: Create a list which contains all the strings, but lowercases strings which have ONLY uppercase letters\n",
        "4. Super bonus:  Similarly to `islower()` and `isupper()`, the `find` string method can find substrings in a string.  If the string is **NOT** found, this method returns -1.  Create a list which returns only sentences where the string 'dog' is found (i.e., where `sent.find('dog')!=-1` ).  Note that since there are varying letter cases here, it might be helpful to lowercase the letters of the strings when using `find()`."
      ]
    },
    {
      "cell_type": "code",
      "execution_count": null,
      "metadata": {
        "id": "nBZoLQ6_3yau",
        "outputId": "1abd6fff-f549-47b1-94d1-b021285fb6bc"
      },
      "outputs": [
        {
          "data": {
            "text/plain": [
              "['Dogs are cute', '  I LOVE DOGS', ' THEY are WONderful', '']"
            ]
          },
          "execution_count": null,
          "metadata": {},
          "output_type": "execute_result"
        }
      ],
      "source": [
        "#we can also split on other characters\n",
        "paragraph = 'Dogs are cute.  I LOVE DOGS. THEY are WONderful.'\n",
        "par_list = paragraph.split('.')\n",
        "par_list"
      ]
    },
    {
      "cell_type": "code",
      "execution_count": null,
      "metadata": {
        "id": "NhVzUcWJ3yau",
        "outputId": "e631bed7-ac61-473a-bb0a-1600903db4dd"
      },
      "outputs": [
        {
          "data": {
            "text/plain": [
              "['Dogs are cute', '  I LOVE DOGS', ' THEY are WONderful', '']"
            ]
          },
          "execution_count": null,
          "metadata": {},
          "output_type": "execute_result"
        }
      ],
      "source": [
        "#1\n",
        "[sent for sent in par_list]"
      ]
    },
    {
      "cell_type": "code",
      "execution_count": null,
      "metadata": {
        "id": "59pB0nUi3yau",
        "outputId": "3b70d47e-7ea2-4e4c-acf6-1a8c922d3cc0"
      },
      "outputs": [
        {
          "data": {
            "text/plain": [
              "['  I LOVE DOGS']"
            ]
          },
          "execution_count": null,
          "metadata": {},
          "output_type": "execute_result"
        }
      ],
      "source": [
        "#2\n",
        "[sent for sent in par_list if sent.isupper()]"
      ]
    },
    {
      "cell_type": "code",
      "execution_count": null,
      "metadata": {
        "id": "WMlEiX903yav",
        "outputId": "b14dbb36-7f4e-4769-bfc3-2a83991877d7"
      },
      "outputs": [
        {
          "data": {
            "text/plain": [
              "['Dogs are cute', '  i love dogs', ' THEY are WONderful', '']"
            ]
          },
          "execution_count": null,
          "metadata": {},
          "output_type": "execute_result"
        }
      ],
      "source": [
        "#bonus\n",
        "[sent.lower() if sent.isupper() else sent for sent in par_list]"
      ]
    },
    {
      "cell_type": "code",
      "execution_count": null,
      "metadata": {
        "id": "FtZCRW2b3yav",
        "outputId": "81306050-4193-4207-f840-60c17888ca25"
      },
      "outputs": [
        {
          "data": {
            "text/plain": [
              "['Dogs are cute', '  I LOVE DOGS']"
            ]
          },
          "execution_count": null,
          "metadata": {},
          "output_type": "execute_result"
        }
      ],
      "source": [
        "#super bonus\n",
        "[sent for sent in par_list if sent.lower().find('dog')!=-1]"
      ]
    },
    {
      "cell_type": "markdown",
      "metadata": {
        "id": "mL59zec13yav"
      },
      "source": [
        "#### Additional reading and exercises left to the reader"
      ]
    },
    {
      "cell_type": "code",
      "execution_count": null,
      "metadata": {
        "id": "NYpIW4lS3yav",
        "outputId": "13a729e1-36be-4341-9157-c7504b825428"
      },
      "outputs": [
        {
          "name": "stdout",
          "output_type": "stream",
          "text": [
            "[0, 1, 4, 9, 16, 25, 36, 49, 64, 81]\n"
          ]
        }
      ],
      "source": [
        "# Assume we want to make a list of the square of the first 10 intergers from 0 to 9\n",
        "# Here's how we'd do that in a list\n",
        "squares = [] # Create an empty list to add things to\n",
        "for i in range(10):\n",
        "    squares.append(i ** 2)\n",
        "print(squares)"
      ]
    },
    {
      "cell_type": "markdown",
      "metadata": {
        "id": "Rki3SeKQ3yav"
      },
      "source": [
        "This works just fine, but with list comprehensions, we can do this in only one line!"
      ]
    },
    {
      "cell_type": "code",
      "execution_count": null,
      "metadata": {
        "id": "pqQeRc9-3yav",
        "outputId": "527c402d-ea2f-40d2-c731-78f8e3089a38"
      },
      "outputs": [
        {
          "name": "stdout",
          "output_type": "stream",
          "text": [
            "[0, 1, 4, 9, 16, 25, 36, 49, 64, 81]\n"
          ]
        }
      ],
      "source": [
        "# List comprehensions look something like list = [n for n in range() if <condition>]\n",
        "# So if we do [n ** 2 for n in range(10)], We can get a list of n ** 2 for all values in range(10) which is what we want!\n",
        "print([n ** 2 for n in range(10)])"
      ]
    },
    {
      "cell_type": "markdown",
      "metadata": {
        "id": "dT2tA3gb3yav"
      },
      "source": [
        "Look at that! The exact same list made in a single line. There are also a few more things we can do with list comprehensions.\n",
        "\n",
        "Adding an ``if`` statement on the end allows us to trim the values to fit certain condition:"
      ]
    },
    {
      "cell_type": "code",
      "execution_count": null,
      "metadata": {
        "id": "TB6J1_sU3yav",
        "outputId": "a6d58c8c-d0a7-43b8-a53a-d100c5ca992f"
      },
      "outputs": [
        {
          "name": "stdout",
          "output_type": "stream",
          "text": [
            "[0, 1, 4, 9, 16, 25, 36, 49]\n"
          ]
        }
      ],
      "source": [
        "# Say we wanted the same list, but only the squares that ended up being less than 50\n",
        "# That can be done by adding a if n ** 2 < 50 to the end like this\n",
        "print([n ** 2 for n in range(10) if n ** 2 < 50])"
      ]
    },
    {
      "cell_type": "markdown",
      "metadata": {
        "id": "7e9QBU2M3yaw"
      },
      "source": [
        "So we understand, let's try it again with a new problem and work through it step-by-step.\n",
        "\n",
        "**Let's say we want a list of all of the ODD cubes (raised to the 3rd power) of the numbers between 1 and 15.**\n",
        "\n",
        "There are 3 things we need for a list comprehension: The operation, the range, and the condition. \n",
        "\n",
        "Looking at our problem, we want the cubes of the numbers, so our operation will be ``n ** 3`` to raise the numbers to the third power.\n",
        "\n",
        "The range is easy enough to figure out, the numbers between 1 and 15 can be found with ``n in range(1,16)``\n",
        "\n",
        "So far, we have ``[n ** 3 for n in range(1,16)]``"
      ]
    },
    {
      "cell_type": "code",
      "execution_count": null,
      "metadata": {
        "id": "stfAM6CG3yaw",
        "outputId": "06a7705f-e067-4b69-fb0a-e71b9dd78bd3"
      },
      "outputs": [
        {
          "name": "stdout",
          "output_type": "stream",
          "text": [
            "[1, 8, 27, 64, 125, 216, 343, 512, 729, 1000, 1331, 1728, 2197, 2744, 3375]\n"
          ]
        }
      ],
      "source": [
        "# Now we can begin on the comprehension\n",
        "print ([n ** 3 for n in range(1,16)])\n",
        "\n",
        "# What we have so far will print all of the cubes of the first 15 numbers, but we want only the ODD ones\n",
        "# This means we need an if statement!"
      ]
    },
    {
      "cell_type": "markdown",
      "metadata": {
        "id": "2SSwUPG73yaw"
      },
      "source": [
        "In this problem, the condition is that the cube is ODD. In python the standard way to find odd numbers is using the ``%`` operator, which returns the remainder after division by a number. If you divide a number by 2 and it has a remainder or 1, you know it must be odd. Therefore, for our condition, we want the cube % 2 to be equal to 1. In code, this is ``(n ** 3) % 2 == 1``\n",
        "\n",
        "Now we have all the pieces we need to put the comprehension together!\n",
        "\n",
        "The format is ``[operation for range if condition]``, so plugging things in we get:\n",
        "\n",
        "``[n ** 3 for n in range(1,16) if (n ** 3) \\% 2 == 1]``\n",
        "\n",
        "Let's run that and see what we get!"
      ]
    },
    {
      "cell_type": "code",
      "execution_count": null,
      "metadata": {
        "id": "8jbhkH9z3yaw",
        "outputId": "0eb5ac48-1325-4153-f732-52f714f1e711"
      },
      "outputs": [
        {
          "name": "stdout",
          "output_type": "stream",
          "text": [
            "[1, 27, 125, 343, 729, 1331, 2197, 3375]\n"
          ]
        }
      ],
      "source": [
        "# There we go! As we can see this prints all of the odd cubes of the numbers between 1 and 15!\n",
        "print([n ** 3 for n in range(1,16) if (n ** 3) % 2 == 1])"
      ]
    },
    {
      "cell_type": "markdown",
      "metadata": {
        "id": "ZsfF9bXe3yaw"
      },
      "source": [
        "Finally, keep in mind that not every comprehension needs a fancy operation or condition, leaving off the if statement or just having the operation be 'n' are perfectly okay if that's what your list needs. List comprehensions are just a helpful tool to help you quickly get the list you need!"
      ]
    },
    {
      "cell_type": "markdown",
      "metadata": {
        "id": "QzG8lFbf3yaw"
      },
      "source": [
        "## Functions"
      ]
    },
    {
      "cell_type": "markdown",
      "metadata": {
        "id": "3lZ72ONj3yaw"
      },
      "source": [
        "The final thing we'll cover in this section is functions, how to use them, and how to create your own!\n",
        "\n",
        "We actually already have a good amount of experience using functions, as the ``print()``, ``range()``, ``len()`` and other things we've done that end in ``()`` are functions!\n",
        "\n",
        "As we've been doing, we call functions by typing the name of the function, then putting any parameters you want to give the function in parenthesis afterwards."
      ]
    },
    {
      "cell_type": "code",
      "execution_count": null,
      "metadata": {
        "id": "B6rOCEVF3yax",
        "outputId": "1d8f4bdf-fae1-4aac-acde-afcfbe7e3d65"
      },
      "outputs": [
        {
          "name": "stdout",
          "output_type": "stream",
          "text": [
            "Hello World!\n"
          ]
        }
      ],
      "source": [
        "# For example, the print() function takes 1 argument, the thing you want to print, and prints it.\n",
        "# Print \"Hello World!\"\n",
        "print(\"Hello World!\") "
      ]
    },
    {
      "cell_type": "markdown",
      "metadata": {
        "id": "K6Y5nt3c3yax"
      },
      "source": [
        "What we'd like to be able to do is make functions of our own.  You can define your own functions with a ``def`` statement followed by a function name.  Inside the parethesis in the function definition are a set of arguments.  These arguments are just dummy names that are stand-ins for when Python substitutes the dummy value with the real argument.  Let's make a function out of our upper/lower/mixed case code."
      ]
    },
    {
      "cell_type": "code",
      "execution_count": null,
      "metadata": {
        "id": "XBA5pqry3yax"
      },
      "outputs": [],
      "source": [
        "# Make a new function that prints whether something is upper, lower, or mixed case.\n",
        "def which_case(fun_input):\n",
        "    \n",
        "    if fun_input.isupper():\n",
        "        print(fun_input, \"- All uppercase\")\n",
        "    elif fun_input.islower():\n",
        "        print(fun_input, \"- All lowercase\")\n",
        "    else:\n",
        "        print(fun_input, '- Mixed case')\n",
        "    \n",
        "    return None"
      ]
    },
    {
      "cell_type": "code",
      "execution_count": null,
      "metadata": {
        "id": "xbFk83Ov3yax",
        "outputId": "78a329e0-5513-4626-8bac-2e0a311411a8"
      },
      "outputs": [
        {
          "name": "stdout",
          "output_type": "stream",
          "text": [
            "dog - All lowercase\n"
          ]
        }
      ],
      "source": [
        "#call the function\n",
        "which_case('dog')"
      ]
    },
    {
      "cell_type": "markdown",
      "metadata": {
        "id": "XeL1UrFP3yaz"
      },
      "source": [
        "Most of the time, it isn't sufficient just to print something.  The function needs to return something to the \"caller\".  Recall that the `len` function returns an integer length.  The `find` function returns how many times the substring was found.  This allows us to use functions in a chained manner.\n",
        "\n",
        "Let's change our objective for our `case` function, and make something called `switch_case`.  If the code word in is all uppercase, let's switch it to lower.  If it is all lowercase, let's switch it to upper.  If it's mixed case, let's swap the case."
      ]
    },
    {
      "cell_type": "code",
      "execution_count": null,
      "metadata": {
        "id": "B_8Isv8w3yaz"
      },
      "outputs": [],
      "source": [
        "#switch_case function\n",
        "def switch_case(fun_input):\n",
        "    if fun_input.isupper():\n",
        "        fun_input = fun_input.lower()\n",
        "    elif fun_input.islower():\n",
        "        fun_input = fun_input.upper()\n",
        "    else:\n",
        "        fun_input = fun_input.swapcase()\n",
        "    \n",
        "    return fun_input"
      ]
    },
    {
      "cell_type": "code",
      "execution_count": null,
      "metadata": {
        "id": "eeONYOCG3yaz",
        "outputId": "65e9389d-2063-43cb-d691-f4d48a9c9df4"
      },
      "outputs": [
        {
          "data": {
            "text/plain": [
              "'DOG'"
            ]
          },
          "execution_count": null,
          "metadata": {},
          "output_type": "execute_result"
        }
      ],
      "source": [
        "switch_case('dog')"
      ]
    },
    {
      "cell_type": "markdown",
      "metadata": {
        "id": "dhDu2Slc3yaz"
      },
      "source": [
        "Let's try this on our sentence list using a list comprehension."
      ]
    },
    {
      "cell_type": "code",
      "execution_count": null,
      "metadata": {
        "id": "1nIhcBaU3ya0",
        "outputId": "eac5c7da-187b-4e50-9719-58442ce59f49"
      },
      "outputs": [
        {
          "data": {
            "text/plain": [
              "['DOGS', 'ARE', 'CUTE']"
            ]
          },
          "execution_count": null,
          "metadata": {},
          "output_type": "execute_result"
        }
      ],
      "source": [
        "[switch_case(word) for word in sent_list]"
      ]
    },
    {
      "cell_type": "markdown",
      "metadata": {
        "id": "RH9lCZUT3ya0"
      },
      "source": [
        "#### In-class exercise\n",
        "In looking at the strings generated with `paragraph.split('.')`, we might want to change some of the list elements.  For example, some of the strings have unnecessary whitespace on either end, and we want might want to replace the period at the end.  Use the following information:\n",
        "* The `strip` method removes whitespace from both sides of a string\n",
        "* You can concatenate strings using `+` (e.g., `'random sentence'+'.'` = `random sentence.`)\n",
        "\n",
        "1.  Create a function which accepts a string, strips whitespace, and adds a period at the end.  It should return this modified string.\n",
        "2.  Use a list comprehension to apply this to `par_list`."
      ]
    },
    {
      "cell_type": "code",
      "execution_count": null,
      "metadata": {
        "id": "2m-dqd453ya0",
        "outputId": "ab576dfc-e7e9-4f38-f632-eac0e5b7fd82"
      },
      "outputs": [
        {
          "data": {
            "text/plain": [
              "['Dogs are cute', '  I LOVE DOGS', ' THEY are WONderful', '']"
            ]
          },
          "execution_count": null,
          "metadata": {},
          "output_type": "execute_result"
        }
      ],
      "source": [
        "par_list"
      ]
    },
    {
      "cell_type": "code",
      "execution_count": null,
      "metadata": {
        "id": "QwfsU7QB3ya0"
      },
      "outputs": [],
      "source": [
        "#1\n",
        "def preproc(instr):\n",
        "    instr = instr.strip() + '.'\n",
        "    return instr"
      ]
    },
    {
      "cell_type": "code",
      "execution_count": null,
      "metadata": {
        "id": "hyF1OS6-3ya0",
        "outputId": "c04a0c91-9118-4208-f122-a0c73e34e583"
      },
      "outputs": [
        {
          "data": {
            "text/plain": [
              "'Dogs are cute.'"
            ]
          },
          "execution_count": null,
          "metadata": {},
          "output_type": "execute_result"
        }
      ],
      "source": [
        "preproc(par_list[0])"
      ]
    },
    {
      "cell_type": "code",
      "execution_count": null,
      "metadata": {
        "id": "4QaQuoCq3ya1",
        "outputId": "1a913dac-7f71-448e-f39c-c596a761d9fc"
      },
      "outputs": [
        {
          "data": {
            "text/plain": [
              "['Dogs are cute.', 'I LOVE DOGS.', 'THEY are WONderful.']"
            ]
          },
          "execution_count": null,
          "metadata": {},
          "output_type": "execute_result"
        }
      ],
      "source": [
        "#2\n",
        "[preproc(sent) for sent in par_list if sent is not '']"
      ]
    },
    {
      "cell_type": "markdown",
      "metadata": {
        "id": "UkHQDtBz3ya1"
      },
      "source": [
        "#### Additional reading and exercises left to the reader\n",
        "**Now let's try to make a function with a real purpose. A common example used to demonstrate functions is a function that outputs the Fibonavci sequence.** \n",
        "\n",
        "If you're unfamiliar, the Fibonacci sequence is a sequence of numbers that begins with 1,1 and then each new number in the series is equal to the sum of the last two.\n",
        "\n",
        "Let's try to build something like that:"
      ]
    },
    {
      "cell_type": "code",
      "execution_count": null,
      "metadata": {
        "id": "JphFLJXJ3ya1",
        "outputId": "4c8249ce-d0f1-48e6-c2fa-fb156625e175"
      },
      "outputs": [
        {
          "name": "stdout",
          "output_type": "stream",
          "text": [
            "[1, 1, 2, 3, 5, 8, 13, 21, 34, 55]\n"
          ]
        }
      ],
      "source": [
        "# Let's define a new function with an input for the number of Fibonacci numbers we want\n",
        "def fib(N):\n",
        "    out = [1,1] # First, we need a list to add to and print at the end, and we know the first two terms 1,1 by definition\n",
        "    for i in range(N - 2): # Because N is the number of terms we want and we add 2 at the start, we want to loop (N - 2) times\n",
        "        out.append(out[i] + out[i + 1]) # This step is a little tricky, but how it works is that in the first loop, i is 0 \n",
        "                                        # so we sum the first and second terms to create a thrid, then on the second loop \n",
        "                                        # i is 1 so it sums the 2nd and 3rd terms to create a 4th. This continues until the\n",
        "                                        # loop is done and we have all the terms we need!\n",
        "    print(out) # Finally, print the list we've made\n",
        "# Now let's call the function and see the result\n",
        "fib(10)"
      ]
    },
    {
      "cell_type": "markdown",
      "metadata": {
        "id": "U8Q6TtCi3ya1"
      },
      "source": [
        "There we go! Feel free to change the 10 to another number to see that it works no matter if you want 3 numbers or 100!\n",
        "\n",
        "This is a complex example, but by understanding how we made this function, you can see how everything we've learned about lists, loops, and functions can come together to be a powerful tool for making the things you need."
      ]
    },
    {
      "cell_type": "markdown",
      "metadata": {
        "id": "rwUZeija3ya1"
      },
      "source": [
        "## What we've covered"
      ]
    },
    {
      "cell_type": "markdown",
      "metadata": {
        "id": "yKFb2C7E3ya1"
      },
      "source": [
        "Upon completion of this notebook, you should be familiar with the following:\n",
        "\n",
        "- Data structures like lists, dictionaries, sets, and tuples\n",
        "- Comparison statements IF, ELSE, and ELIF and how to use them together\n",
        "- For loops and how to use them with lists\n",
        "- List comprehension and how to use it to create complex lists\n",
        "- How to call and create your own functions with custom inputs"
      ]
    },
    {
      "cell_type": "markdown",
      "metadata": {
        "id": "nxhTH07N3ya1"
      },
      "source": [
        "## Additional exercises\n",
        "To gain additional practice and prepare for pandas, do the exercises below:\n",
        "1. Review all additional readings and exercises in this notebook\n",
        "2. Create a list of 5 questions (5 string elements).  Use a list comprehension to show all of the elements.\n",
        "3. Create a list of 5 answers (5 string elements).\n",
        "4. Create a function which will accept two lists as arguments.  Print out the the corresponding answers to each question in the form ('Question: <your question here>, Answer:<your answer here>).  `len` and `enumerate` may be helpful here.\n",
        "5.  Create a dictionary of question-answer pairs as key-value pairs.  Both key and value will be strings.  Create a function which will accept this dictionary and print out the questions and answers in the same form.\n",
        "6.  Examine the string documentation here: https://docs.python.org/3/library/stdtypes.html#string-methods and answer the following questions:\n",
        "    * What method could I use to determine if a string was all numeric?\n",
        "    * What method could I use to replace characters in a string?\n",
        "    * What method could I use to determine whether a string starts with a certain character?\n",
        "7.  Using the results from (6), generate a list comprehension which will replace all instances of \"dog\" with \"cat\" in par_list."
      ]
    }
  ],
  "metadata": {
    "kernelspec": {
      "display_name": "Python 3",
      "language": "python",
      "name": "python3"
    },
    "colab": {
      "name": "1-Python-Basics-Solns.ipynb",
      "provenance": []
    }
  },
  "nbformat": 4,
  "nbformat_minor": 0
}